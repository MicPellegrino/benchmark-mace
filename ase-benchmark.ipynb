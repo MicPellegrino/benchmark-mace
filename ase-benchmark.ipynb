{
 "cells": [
  {
   "cell_type": "markdown",
   "id": "e777f7bd",
   "metadata": {},
   "source": [
    "## Installing pyTorch and MACE from pip"
   ]
  },
  {
   "cell_type": "code",
   "execution_count": null,
   "id": "eb7c0318",
   "metadata": {},
   "outputs": [],
   "source": [
    "!pip3 install --upgrade pip"
   ]
  },
  {
   "cell_type": "code",
   "execution_count": null,
   "id": "2bf1b7bd",
   "metadata": {},
   "outputs": [],
   "source": [
    "!pip3 install torch torchvision torchaudio --index-url https://download.pytorch.org/whl/cu126\n",
    "# !pip3 install torch==2.5.1 torchvision==0.20.1 torchaudio==2.5.1 --index-url https://download.pytorch.org/whl/cu124\n",
    "# !pip3 install pytorch==2.4.1 torchvision==0.19.1 torchaudio==2.4.1 --index-url https://download.pytorch.org/whl/cu124"
   ]
  },
  {
   "cell_type": "code",
   "execution_count": null,
   "id": "39a3cc8f",
   "metadata": {},
   "outputs": [],
   "source": [
    "# Checking pyTorch version\n",
    "import torch\n",
    "print(torch.__version__)"
   ]
  },
  {
   "cell_type": "code",
   "execution_count": null,
   "id": "48bce8c0",
   "metadata": {},
   "outputs": [
    {
     "name": "stdout",
     "output_type": "stream",
     "text": [
      "Requirement already satisfied: lightning-utilities>=0.8.0 in /home/michele/mambaforge/envs/benchmark-mace/lib/python3.10/site-packages (from torchmetrics->mace-torch) (0.14.2)\n",
      "Requirement already satisfied: smmap<6,>=3.0.1 in /home/michele/mambaforge/envs/benchmark-mace/lib/python3.10/site-packages (from gitdb<5,>=4.0.1->GitPython->mace-torch) (5.0.2)\n",
      "Requirement already satisfied: setuptools in /home/michele/mambaforge/envs/benchmark-mace/lib/python3.10/site-packages (from lightning-utilities>=0.8.0->torchmetrics->mace-torch) (75.8.2)\n",
      "Requirement already satisfied: six>=1.5 in /home/michele/mambaforge/envs/benchmark-mace/lib/python3.10/site-packages (from python-dateutil>=2.7->matplotlib->mace-torch) (1.17.0)\n",
      "Requirement already satisfied: MarkupSafe>=2.0 in /home/michele/mambaforge/envs/benchmark-mace/lib/python3.10/site-packages (from jinja2->torch>=1.12->mace-torch) (3.0.2)\n"
     ]
    }
   ],
   "source": [
    "# Install from pypi (recommended)\n",
    "\n",
    "# !pip3 install mace-torch==0.3.10\n",
    "# !pip3 install mace-torch"
   ]
  },
  {
   "cell_type": "code",
   "execution_count": null,
   "id": "32127682-7681-4c90-adee-f6c5a486dda5",
   "metadata": {},
   "outputs": [],
   "source": [
    "# Install MACE from git (cuequivariance sp fix?)\n",
    "\n",
    "!pip3 install ./mace"
   ]
  },
  {
   "cell_type": "code",
   "execution_count": null,
   "id": "f0ab6d3f",
   "metadata": {},
   "outputs": [],
   "source": [
    "# Checking MACE version (cuEquivariance depends on the MACE version)\n",
    "import mace\n",
    "print(mace.__version__)"
   ]
  },
  {
   "cell_type": "code",
   "execution_count": null,
   "id": "240e2cd8",
   "metadata": {},
   "outputs": [],
   "source": [
    "# cuequivariance>0.1.0 doesn't work\n",
    "\n",
    "# !pip3 install cuequivariance==0.1.0 cuequivariance-torch==0.1.0 cuequivariance-ops-torch-cu12==0.1.0\n",
    "!pip3 install cuequivariance cuequivariance-torch cuequivariance-ops-torch-cu12"
   ]
  },
  {
   "cell_type": "code",
   "execution_count": null,
   "id": "e93097cc-141f-4a12-aa6b-e22ee683ee74",
   "metadata": {},
   "outputs": [],
   "source": [
    "!pip list"
   ]
  },
  {
   "cell_type": "markdown",
   "id": "f4411919",
   "metadata": {},
   "source": [
    "## Testing MACE+ASE"
   ]
  },
  {
   "cell_type": "code",
   "execution_count": null,
   "id": "cbffcad6",
   "metadata": {},
   "outputs": [],
   "source": [
    "%cd ase-output"
   ]
  },
  {
   "cell_type": "code",
   "execution_count": null,
   "id": "de655486",
   "metadata": {},
   "outputs": [],
   "source": [
    "from ase.io import read, write\n",
    "from ase import units\n",
    "from ase.md.velocitydistribution import Stationary, ZeroRotation, MaxwellBoltzmannDistribution\n",
    "\n",
    "from ase.md.langevin import Langevin\n",
    "\n",
    "# For some reason these modules are not found:\n",
    "from ase.md.nose_hoover_chain import NoseHooverChainNVT\n",
    "from ase.md.bussi import Bussi\n",
    "\n",
    "import random\n",
    "import time\n",
    "import numpy as np\n",
    "\n",
    "FS2PS = 1e-3\n",
    "FS2NS = 1e-6\n",
    "DAY2MIN = 1440"
   ]
  },
  {
   "cell_type": "code",
   "execution_count": null,
   "id": "23dd68ec",
   "metadata": {},
   "outputs": [],
   "source": [
    "def test_md(init_conf, \n",
    "            calc, \n",
    "            dyn,\n",
    "            nsteps=100, \n",
    "            fname='md_test.xyz',\n",
    "            ndump=1):\n",
    "    \n",
    "    init_conf.calc = calc\n",
    "    \n",
    "    # Remove COM and rotational velocity\n",
    "    Stationary(init_conf)\n",
    "    ZeroRotation(init_conf)\n",
    "\n",
    "    # %matplotlib inline\n",
    "\n",
    "    time_ps = []\n",
    "    temperature = []\n",
    "    energies = []\n",
    "\n",
    "    def write_frame():\n",
    "            dyn.atoms.write(fname, append=True)\n",
    "            time_ps.append(FS2PS*dyn.get_time()/units.fs)\n",
    "            temperature.append(dyn.atoms.get_temperature())\n",
    "            energies.append(dyn.atoms.get_potential_energy()/len(dyn.atoms))\n",
    "\n",
    "    dyn.attach(write_frame, interval=ndump)\n",
    "    t0 = time.time()\n",
    "    dyn.run(nsteps)\n",
    "    t1 = time.time()\n",
    "    cpu_run_min = (t1-t0)/60\n",
    "    print(\"MD finished in {0:.2f} minutes!\".format(cpu_run_min))\n",
    "    print(\"Estimate: \",FS2NS*DAY2MIN*(nsteps*dt)/cpu_run_min,\" ns/day\")\n",
    "    \n",
    "    return time_ps, temperature, energies"
   ]
  },
  {
   "cell_type": "code",
   "execution_count": null,
   "id": "f22df9a8",
   "metadata": {},
   "outputs": [],
   "source": [
    "# Selecting the MACE model\n",
    "# from mace.calculators import MACECalculator\n",
    "\n",
    "# model_file = '/home/michele/lammps-mace/models/mace-mpa-0-medium.model'\n",
    "# model_file = '/home/michele/lammps-mace/models/2023-12-10-mace-128-L0_energy_epoch-249.model'\n",
    "\n",
    "# Testing both vanilla and with cuEquivariance 0.1.0\n",
    "\"\"\"\n",
    "calc_vanilla = MACECalculator(model_paths=model_file, device='cuda', default_dtype=\"float32\")\n",
    "calc_cuequiv = MACECalculator(model_paths=model_file, device='cuda', default_dtype=\"float32\", enable_cueq=True)\n",
    "calc_vanilla = MACECalculator(model_paths=model_file, device='cuda', default_dtype=\"float64\")\n",
    "calc_cuequiv = MACECalculator(model_paths=model_file, device='cuda', default_dtype=\"float64\", enable_cueq=True)\n",
    "\"\"\""
   ]
  },
  {
   "cell_type": "code",
   "execution_count": null,
   "id": "aebb726c",
   "metadata": {},
   "outputs": [],
   "source": [
    "# Alternative way to define the calculator\n",
    "from mace.calculators import mace_mp\n",
    "\n",
    "# calc = mace_mp() # return the default medium ASE calculator equivalent to mace_mp(model=\"medium\")\n",
    "# calc = mace_mp(model=\"https://tinyurl.com/y7uhwpje\") # downlaod the model at the given url\n",
    "# calc = mace_mp(dispersion=True) # return a model with D3 dispersion correction\n",
    "\n",
    "calc_vanilla = mace_mp(model=\"medium-mpa-0\", device='cuda', default_dtype=\"float32\")\n",
    "calc_cuequiv = mace_mp(model=\"medium-mpa-0\", device='cuda', enable_cueq=True, default_dtype=\"float32\")"
   ]
  },
  {
   "cell_type": "code",
   "execution_count": null,
   "id": "226b024e",
   "metadata": {},
   "outputs": [],
   "source": [
    "# A small CoFeNi box \n",
    "init_conf = read('../confs/CoFeNi_3.data', '0', format='lammps-data')"
   ]
  },
  {
   "cell_type": "code",
   "execution_count": null,
   "id": "bde5e1c6",
   "metadata": {},
   "outputs": [],
   "source": [
    "# Initializing velocities\n",
    "seed = 1234\n",
    "T=300\n",
    "random.seed(seed)\n",
    "MaxwellBoltzmannDistribution(init_conf, temperature_K=T)"
   ]
  },
  {
   "cell_type": "code",
   "execution_count": null,
   "id": "e6e25fb6",
   "metadata": {},
   "outputs": [],
   "source": [
    "# Defining the ensemble and propagator(s)\n",
    "dt=1.0\n",
    "tdamp_langevin=0.01/units.fs\n",
    "tdamp_bussi = (1e3)*units.fs\n",
    "logfile='md_test.log'\n",
    "# Langevin dynamics\n",
    "dyn_langevin = Langevin(init_conf, dt*units.fs, temperature_K=T, friction=tdamp_langevin, logfile=logfile)\n",
    "# Vertlet + Bussi\n",
    "dyn_bussi = Bussi(init_conf, dt*units.fs, temperature_K=T, taut=tdamp_bussi, logfile=logfile)\n",
    "# Verlet + Nose-Hoover\n",
    "dyn_nhc = NoseHooverChainNVT(init_conf, dt*units.fs, temperature_K=T, tdamp=tdamp_bussi, tchain=1, logfile=logfile)"
   ]
  },
  {
   "cell_type": "code",
   "execution_count": null,
   "id": "005aeb09",
   "metadata": {},
   "outputs": [],
   "source": [
    "# Run and I/O parameters\n",
    "nsteps=1000\n",
    "ndump=100"
   ]
  },
  {
   "cell_type": "code",
   "execution_count": null,
   "id": "68b99426",
   "metadata": {},
   "outputs": [],
   "source": [
    "t, T, E = test_md(init_conf, calc_vanilla, dyn=dyn_nhc, nsteps=nsteps, ndump=ndump, fname='md_test_van.xyz')"
   ]
  },
  {
   "cell_type": "code",
   "execution_count": null,
   "id": "2746fe54",
   "metadata": {},
   "outputs": [],
   "source": [
    "t, T, E = test_md(init_conf, calc_cuequiv, dyn=dyn_nhc, nsteps=nsteps, ndump=ndump, fname='md_test_cue.xyz')"
   ]
  },
  {
   "cell_type": "code",
   "execution_count": null,
   "id": "92e66afe",
   "metadata": {},
   "outputs": [],
   "source": [
    "# Only one repetaion (needs more statistics!)\n",
    "n_atoms = np.array([108,  256,   500,   864,   1372,  2048 ])\n",
    "nsday_v = np.array([1.72, 0.703, 0.392, 0.244, 0.155, np.nan])\n",
    "nsday_c = np.array([1.42, 0.724, 0.384, 0.232, 0.150, 0.093])"
   ]
  },
  {
   "cell_type": "code",
   "execution_count": null,
   "id": "c85c29ea",
   "metadata": {},
   "outputs": [],
   "source": [
    "import matplotlib.pyplot as plt\n",
    "plt.plot(n_atoms, nsday_v*n_atoms, 'b-', label=\"vanilla\")\n",
    "plt.plot(n_atoms, nsday_c*n_atoms, 'r-', label=\"with cuEquivariance\")\n",
    "plt.xlabel(r\"$N$\")\n",
    "plt.ylabel(r\"$N\\cdot$ns/day\")\n",
    "plt.legend()\n",
    "plt.show()"
   ]
  },
  {
   "cell_type": "code",
   "execution_count": null,
   "id": "eddd307e",
   "metadata": {},
   "outputs": [],
   "source": [
    "%matplotlib notebook\n",
    "fig, (ax1,ax2) = plt.subplots(1,2)\n",
    "ax1.plot(t,T)\n",
    "ax1.set_xlabel('t [ps]')\n",
    "ax1.set_ylabel('T [K]')\n",
    "ax2.plot(t,E)\n",
    "ax2.set_xlabel('t [ps]')\n",
    "ax2.set_ylabel('e [eV]')\n",
    "plt.tight_layout()\n",
    "plt.show()"
   ]
  },
  {
   "cell_type": "code",
   "execution_count": null,
   "id": "585868b0",
   "metadata": {},
   "outputs": [],
   "source": []
  }
 ],
 "metadata": {
  "kernelspec": {
   "display_name": "Python 3 (ipykernel)",
   "language": "python",
   "name": "python3"
  },
  "language_info": {
   "codemirror_mode": {
    "name": "ipython",
    "version": 3
   },
   "file_extension": ".py",
   "mimetype": "text/x-python",
   "name": "python",
   "nbconvert_exporter": "python",
   "pygments_lexer": "ipython3",
   "version": "3.12.10"
  }
 },
 "nbformat": 4,
 "nbformat_minor": 5
}
